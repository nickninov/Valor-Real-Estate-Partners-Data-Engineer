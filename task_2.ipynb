{
 "cells": [
  {
   "cell_type": "code",
   "execution_count": 18,
   "metadata": {},
   "outputs": [],
   "source": [
    "from selenium import webdriver\n",
    "from selenium.webdriver.support.ui import WebDriverWait\n",
    "from selenium.webdriver.chrome.options import Options\n",
    "from selenium.webdriver.chrome.service import Service as ChromeService\n",
    "from selenium.webdriver.common.by import By\n",
    "from selenium.webdriver.support import expected_conditions as EC\n",
    "from webdriver_manager.chrome import ChromeDriverManager\n",
    "\n",
    "import pandas as pd\n",
    "\n",
    "import os\n",
    "import random\n",
    "import datetime\n",
    "import re\n",
    "import time\n"
   ]
  },
  {
   "cell_type": "code",
   "execution_count": 2,
   "metadata": {},
   "outputs": [],
   "source": [
    "class WebDriver:\n",
    "\n",
    "    def __new__(cls, download_path: str, headless: bool = True) -> webdriver.Chrome:\n",
    "        \"\"\"\n",
    "        Initialize a web scraper for the browser\n",
    "\n",
    "        Parameters:\n",
    "            - download_path - the path where the files will be downloaded on your device\n",
    "            - headless - if True, the browser will not show up when the script is runnning.\n",
    "                         if False, the browser will show up when the script is running.\n",
    "        \"\"\"\n",
    "        options = Options()\n",
    "        # A headless system is a computer that operates without a monitor, \n",
    "        # graphical user interface (GUI) or peripheral devices, such as keyboard and mouse\n",
    "        if headless:\n",
    "            options.add_argument('--headless')\n",
    "\n",
    "        # Setup custom download path\n",
    "\n",
    "        options.add_experimental_option(\"prefs\", {\n",
    "            \"download.default_directory\": download_path,\n",
    "            \"download.prompt_for_download\": False,\n",
    "            \"download.directory_upgrade\": True,\n",
    "            \"safebrowsing.enabled\": True\n",
    "        })\n",
    "\n",
    "        chrome_install = ChromeDriverManager().install()\n",
    "        folder = os.path.dirname(chrome_install)\n",
    "        chromedriver_path = os.path.join(folder, \"chromedriver.exe\")\n",
    "        service = ChromeService(chromedriver_path)\n",
    "        driver = webdriver.Chrome(options, service)\n",
    "        return driver"
   ]
  },
  {
   "cell_type": "code",
   "execution_count": 3,
   "metadata": {},
   "outputs": [],
   "source": [
    "def sleep(start: int, stop: int):\n",
    "    \"\"\"\n",
    "    Make the program sleep for a random number of seconds between start and stop\n",
    "\n",
    "    Parameters:\n",
    "        - start - the minimum number of seconds to sleep for\n",
    "        - stop - the maximum number of seconds to sleep for\n",
    "    \"\"\"\n",
    "    seconds = random.randint(start, stop)\n",
    "    print(f\"Sleeping for {seconds} seconds\")\n",
    "    time.sleep(seconds)"
   ]
  },
  {
   "cell_type": "code",
   "execution_count": 4,
   "metadata": {},
   "outputs": [],
   "source": [
    "driver = WebDriver(r\"C:\\Users\\Nikolai\\Documents\\GitHub\", False)"
   ]
  },
  {
   "cell_type": "code",
   "execution_count": 5,
   "metadata": {},
   "outputs": [
    {
     "name": "stdout",
     "output_type": "stream",
     "text": [
      "Sleeping for 6 seconds\n"
     ]
    }
   ],
   "source": [
    "driver.get(\"https://uk.indeed.com/jobs?q=warehouse&l=London%2C+Greater+London&from=searchOnDesktopSerp&vjk=f66b98780c97cbb2\")\n",
    "sleep(5, 7)"
   ]
  },
  {
   "cell_type": "code",
   "execution_count": 25,
   "metadata": {},
   "outputs": [],
   "source": [
    "table = driver.find_element(By.ID, \"mosaic-jobResults\")"
   ]
  },
  {
   "cell_type": "code",
   "execution_count": 75,
   "metadata": {},
   "outputs": [],
   "source": [
    "data = []\n",
    "for card in driver.find_elements(By.XPATH, \"//div[contains(@class, 'job_seen_beacon')]\"):\n",
    "    \n",
    "    if len(card.text) == 0:\n",
    "        continue\n",
    "\n",
    "    try:\n",
    "        job_title = card.find_element(By.TAG_NAME, \"span\").text\n",
    "    except:\n",
    "        job_title = None\n",
    "    try:\n",
    "        salary = card.find_element(By.XPATH, \".//div[contains(@class, 'salary-snippet')]\").text.strip()\n",
    "    except:\n",
    "        salary = None\n",
    "\n",
    "    try:\n",
    "        job_type = card.find_element(By.XPATH, '//*[@data-testid=\"attribute_snippet_testid\"]').text\n",
    "    except:\n",
    "        job_type = None\n",
    "\n",
    "    if salary:\n",
    "        data.append({\"job_title\": job_title, \"salary\": salary, \"job_type\": job_type})\n",
    "    \n",
    "df = pd.DataFrame(data)\n",
    "df[\"pay\"] = \"hourly\"\n",
    "df.loc[df[\"salary\"].str.endswith(\"year\"), \"pay\"] = \"yearly\"\n",
    "\n",
    "df[\"salary\"] = df[\"salary\"].str.split(\" a\").str[0]\n",
    "\n",
    "salaries = df[\"salary\"].str.replace(\"From \", \"\").str.replace(\"£\", \"\").str.replace(\",\", \"\").str.split(\" - \").apply(lambda x: [float(value) for value in x])\n",
    "\n",
    "df[\"min_salary\"] = salaries.apply(lambda x: min(x))\n",
    "df[\"max_salary\"] = salaries.apply(lambda x: max(x))\n",
    "\n",
    "\n",
    "df[\"salary_per_year\"] = df.apply(lambda row: row[\"min_salary\"] if row[\"min_salary\"] == row[\"max_salary\"] else (row[\"min_salary\"] + row[\"max_salary\"]) / 2, axis=1)\n",
    "\n",
    "df.loc[df[\"pay\"] == \"hourly\", \"salary_per_year\"] = None\n",
    "\n",
    "\n",
    "df.to_excel(\"indeed.xlsx\", index=False)"
   ]
  }
 ],
 "metadata": {
  "kernelspec": {
   "display_name": "atal",
   "language": "python",
   "name": "python3"
  },
  "language_info": {
   "codemirror_mode": {
    "name": "ipython",
    "version": 3
   },
   "file_extension": ".py",
   "mimetype": "text/x-python",
   "name": "python",
   "nbconvert_exporter": "python",
   "pygments_lexer": "ipython3",
   "version": "3.12.2"
  }
 },
 "nbformat": 4,
 "nbformat_minor": 2
}
