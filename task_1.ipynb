{
 "cells": [
  {
   "cell_type": "code",
   "execution_count": 1,
   "metadata": {},
   "outputs": [],
   "source": [
    "import plotly.express as px\n",
    "import plotly.graph_objects as go\n",
    "import pandas as pd\n",
    "import os\n",
    "from typing import Optional"
   ]
  },
  {
   "cell_type": "markdown",
   "metadata": {},
   "source": [
    "## Load data"
   ]
  },
  {
   "cell_type": "code",
   "execution_count": 2,
   "metadata": {},
   "outputs": [],
   "source": [
    "def load(folder: str, debug: bool = False) -> pd.DataFrame:\n",
    "    \"\"\"\n",
    "    Load the tsv data into a single DataFrame\n",
    "\n",
    "    Parameters:\n",
    "        - `tsv_folder` - the location of all the .tsv files\n",
    "        - `debug` - if `True` the `print` messages will be displayed\n",
    "\n",
    "    Output:\n",
    "        - the whole DataFrame\n",
    "    \"\"\"\n",
    "    \n",
    "    all_data = []\n",
    "    for file_name in os.listdir(folder):\n",
    "\n",
    "        file_path = os.path.join(folder, file_name)\n",
    "        data = pd.read_csv(file_path, sep=\"\\t\").drop_duplicates().reset_index(drop=True)\n",
    "\n",
    "        # There is no useful information with trade_value 0\n",
    "        query = data[\"trade_value\"] != 0\n",
    "        data = data.loc[query].reset_index(drop=True).copy()\n",
    "        if len(data) == 0:\n",
    "            \n",
    "            if debug: \n",
    "                print(f\"No data found for:\\t{file_name}\")\n",
    "\n",
    "            continue\n",
    "\n",
    "        data[\"month_id\"] = pd.to_datetime(data[\"month_id\"].astype(str), format=\"%Y%m\").dt.to_period(\"M\")\n",
    "\n",
    "        # The product ID is actually the HS6 - HS6, denoted by the first six digits of the HS code, provides the most detailed classification level.\n",
    "        data[\"product_id\"] = data[\"product_id\"].astype(str).apply(lambda value: f\"0{value}\" if len(value) == 5 else value)\n",
    "\n",
    "        # Creating HS2 and HS4 are based on - https://www.icustoms.ai/blogs/hs-code/\n",
    "        data = data.assign(\n",
    "            hs2_id = data[\"product_id\"].str[:2], # The first two digits of the HS code, or “HS2,” provide a wide range of product classifications.\n",
    "            hs4_id = data[\"product_id\"].str[:4] # Going on to HS4, this level of classification offers a more precise identification and includes the first four digits of the HS code.\n",
    "        ).rename(columns={\"product_id\": \"hs6_id\"})\\\n",
    "        .drop([\"product_name\"], axis=1)\n",
    "        \n",
    "        data = data.rename(columns={\"month_id\": \"period\"})\n",
    "        data.insert(0, \"year\", data[\"period\"].dt.year)\n",
    "        data.insert(1, \"month\", data[\"period\"].dt.month)\n",
    "\n",
    "        all_data.append(data.copy())\n",
    "\n",
    "        if debug:\n",
    "            print(f\"Loaded:\\t{file_name}\")\n",
    "\n",
    "    return pd.concat(all_data, ignore_index=True).drop_duplicates().reset_index(drop=True)"
   ]
  },
  {
   "cell_type": "code",
   "execution_count": 3,
   "metadata": {},
   "outputs": [],
   "source": [
    "def split(data: pd.DataFrame, debug: bool = False) -> tuple[pd.DataFrame, pd.DataFrame]:\n",
    "    \"\"\"\n",
    "    Split the data in imports and exports.\n",
    "\n",
    "    Parameters:\n",
    "        - `data` - the data from `load`\n",
    "        - `debug` - if `True` the `print` messages will be displayed\n",
    "\n",
    "    Output:\n",
    "        - the data for Imports\n",
    "        - the data for Exports\n",
    "    \"\"\"\n",
    "    # Split the data in Imports and Exports\n",
    "    query = data[\"trade_flow_name\"] == \"Imports\"\n",
    "\n",
    "    imports = data.loc[query].reset_index(drop=True).copy()\n",
    "    exports = data.loc[~query].reset_index(drop=True).copy()\n",
    "\n",
    "    if debug:\n",
    "        print(f\"Data:    {data.shape[0]:,}\")\n",
    "        print(f\"Exports: {exports.shape[0]:,}\")\n",
    "        print(f\"Imports: {imports.shape[0]:,}\")\n",
    "\n",
    "    return imports.copy(), exports.copy()"
   ]
  },
  {
   "cell_type": "code",
   "execution_count": 4,
   "metadata": {},
   "outputs": [
    {
     "name": "stdout",
     "output_type": "stream",
     "text": [
      "Data:    18,984,187\n",
      "Exports: 9,336,951\n",
      "Imports: 9,647,236\n"
     ]
    }
   ],
   "source": [
    "# Change folder\n",
    "folder = r\"C:\\Users\\Nikolai\\Documents\\GitHub\\Valor-Real-Estate-Partners-Data-Engineer\\US Trade flow\"\n",
    "data = load(folder)\n",
    "imports, exports = split(data, True)\n",
    "\n",
    "us_state_mapping = pd.read_csv(\"us_codes.csv\").set_index(\"state\")[\"code\"].to_dict()\n",
    "\n",
    "query = ~data[\"state_name\"].isin(list(us_state_mapping.keys()))\n",
    "non_states = data.loc[query, \"state_name\"].drop_duplicates().to_list()"
   ]
  },
  {
   "cell_type": "code",
   "execution_count": 5,
   "metadata": {},
   "outputs": [],
   "source": [
    "COLORS = {\n",
    "    \"platinum\": \"#E9E9E5\",\n",
    "    \"ash_gray\": \"#9EAA91\",\n",
    "    \"olivine\": \"#91AC66\",\n",
    "    \"feldgrau\": \"#3C503C\",\n",
    "}"
   ]
  },
  {
   "cell_type": "markdown",
   "metadata": {},
   "source": [
    "## 1.1 How does the total export and import change by different State (`state_name`) from 2021-2022? "
   ]
  },
  {
   "cell_type": "code",
   "execution_count": 36,
   "metadata": {},
   "outputs": [],
   "source": [
    "def create_usa_fig(data: pd.DataFrame, trade_type: str, year: Optional[int] = None):\n",
    "\n",
    "    local = data.dropna().reset_index(drop=True).copy()\n",
    "\n",
    "    if year:\n",
    "        local = local.loc[local[\"year\"] == year].reset_index(drop=True).copy()\n",
    "\n",
    "    column_name = \"trade_value\" if year else \"change\"\n",
    "\n",
    "    threshold = round(local[column_name].max() * 0.95)\n",
    "\n",
    "    fig = px.choropleth(\n",
    "        local.rename(columns={column_name: \"Trade Value\"}),\n",
    "        locations=\"state_code\",          \n",
    "        locationmode=\"USA-states\",       \n",
    "        color=\"Trade Value\",             \n",
    "        hover_name=\"state_name\",\n",
    "        scope=\"usa\",                     \n",
    "        title=f\"US States {trade_type.title()} Trade Value\" + (f\" for {year}\" if year else \" change\"),\n",
    "        color_continuous_scale=list(COLORS.values())\n",
    "    )\n",
    "\n",
    "    fig.update_layout(\n",
    "        title={\n",
    "            \"x\": 0.5,\n",
    "            \"xanchor\": \"center\",\n",
    "            \"yanchor\": \"top\"\n",
    "        },\n",
    "        title_font_size=40,\n",
    "        width=1600,\n",
    "        height=1200,\n",
    "    )\n",
    "\n",
    "    for i, row in local.iterrows():\n",
    "        fig.add_trace(go.Scattergeo(\n",
    "            locationmode='USA-states',\n",
    "            locations=[row[\"state_code\"]],\n",
    "            text=row[\"state_code\"],\n",
    "            mode='text',\n",
    "            textfont=dict(\n",
    "                size=12,\n",
    "                color=\"white\" if row[column_name] > threshold else \"black\"\n",
    "            ),\n",
    "            showlegend=False\n",
    "        ))\n",
    "\n",
    "    fig.show()"
   ]
  },
  {
   "cell_type": "code",
   "execution_count": null,
   "metadata": {},
   "outputs": [],
   "source": [
    "def create_bar(df: pd.DataFrame, trade_type: str):\n",
    "\n",
    "    max_change = max(abs(df['change'].min()), df['change'].max())\n",
    "\n",
    "    fig = px.bar(\n",
    "        df,\n",
    "        x=\"state_name\",\n",
    "        y=\"change\",\n",
    "        text=\"change\"\n",
    "    )\n",
    "\n",
    "    fig.update_layout(\n",
    "        title={\n",
    "            'text': f\"Change in Trade Value by {trade_type.title()}\",\n",
    "            'x': 0.5,\n",
    "            'xanchor': 'center',\n",
    "            'yanchor': 'top'\n",
    "        },\n",
    "        title_font_size=20,\n",
    "        xaxis_title=\"Non US state\",\n",
    "        yaxis_title=\"Change (%)\",\n",
    "        width=800,\n",
    "        height=500,\n",
    "        plot_bgcolor='rgba(0,0,0,0)',\n",
    "        paper_bgcolor='rgba(0,0,0,0)',\n",
    "        yaxis=dict(range=[-max_change, max_change])\n",
    "    )\n",
    "\n",
    "    fig.update_traces(\n",
    "        marker_color=COLORS[\"ash_gray\"],\n",
    "        texttemplate='%{text:.2f}%',\n",
    "        insidetextanchor='middle',\n",
    "        textfont=dict(color=\"black\")\n",
    "    )\n",
    "\n",
    "    fig.show()\n"
   ]
  },
  {
   "cell_type": "code",
   "execution_count": 22,
   "metadata": {},
   "outputs": [],
   "source": [
    "def get_difference(data: pd.DataFrame, pct_change: bool = False) -> pd.DataFrame:\n",
    "\n",
    "    local = data.pivot(index=\"state_name\", columns=\"year\", values=\"trade_value\").reset_index().copy()\n",
    "\n",
    "    local.columns.name = \"\"\n",
    "\n",
    "    if pct_change:\n",
    "        local[\"change\"] = (((local[2022] / local[2021]) - 1) * 100).round(2)\n",
    "    else:\n",
    "        local[\"change\"] = local[2022] - local[2021]\n",
    "        \n",
    "    return local[[\"state_name\", \"change\"]].copy()"
   ]
  },
  {
   "cell_type": "code",
   "execution_count": 23,
   "metadata": {},
   "outputs": [],
   "source": [
    "to_yearly_data = lambda df: df.groupby([\"state_name\", \"year\"])[\"trade_value\"]\\\n",
    "                                .sum()\\\n",
    "                                .reset_index()\\\n",
    "                                .assign(\n",
    "                                    state_code=lambda x: x[\"state_name\"].map(us_state_mapping),\n",
    "                                )\\\n",
    "                                .sort_values(\"year\")\\\n",
    "                                .reset_index(drop=True)\n",
    "\n",
    "yearly_imports: pd.DataFrame = to_yearly_data(imports)\n",
    "yearly_exports: pd.DataFrame = to_yearly_data(exports)\n",
    "\n"
   ]
  },
  {
   "cell_type": "code",
   "execution_count": 24,
   "metadata": {},
   "outputs": [],
   "source": [
    "groups = {\n",
    "    \"exports\": yearly_exports.groupby(\"year\"),\n",
    "    \"imports\": yearly_imports.groupby(\"year\"),\n",
    "}\n",
    "\n",
    "# for trade_type, groupby in groups.items():\n",
    "\n",
    "#     for year, group in groupby:\n",
    "#         create_usa_fig(group, trade_type, year)"
   ]
  },
  {
   "cell_type": "code",
   "execution_count": 28,
   "metadata": {},
   "outputs": [],
   "source": [
    "groups = {\n",
    "    \"exports\": yearly_exports,\n",
    "    \"imports\": yearly_imports\n",
    "}\n",
    "\n",
    "for trade_type, group in groups.items():\n",
    "    difference = get_difference(group, True)\n",
    "\n",
    "    # create_bar(difference.loc[difference[\"state_name\"].isin(non_states)].reset_index(drop=True).copy(), trade_type)\n",
    "    # difference = difference.assign(\n",
    "    #     state_code = difference[\"state_name\"].map(us_state_mapping)\n",
    "    # ).dropna().reset_index(drop=True)\n",
    "\n",
    "    # create_usa_fig(difference, trade_type)"
   ]
  },
  {
   "cell_type": "markdown",
   "metadata": {},
   "source": [
    "## 1.2 How does the total export and import change by HS2 level products (use map table to map `product_id` to HS2 level) in US from 2021-2022?"
   ]
  },
  {
   "cell_type": "code",
   "execution_count": 6,
   "metadata": {},
   "outputs": [],
   "source": [
    "def load_hs_mappings(file_path: str = \"HS mapping.xlsx\") -> pd.DataFrame:\n",
    "    \"\"\"\n",
    "    Load the HS mapping and fix the HS IDs based on https://www.icustoms.ai/blogs/hs-code/\n",
    "\n",
    "    Parameters:\n",
    "        - `file_path` - the location of the hs mapping\n",
    "\n",
    "    Output:\n",
    "        - the hs mappings \n",
    "    \"\"\"\n",
    "    hs_mappings = pd.read_excel(file_path)\n",
    "    hs_mappings.columns = [column.lower().replace(\" \", \"_\") for column in hs_mappings.columns]\n",
    "    hs_mappings[\"hs6_id\"] = hs_mappings[\"hs6_id\"].astype(str).apply(lambda value: f\"0{value}\" if len(value) == 5 else value)\n",
    "\n",
    "    # The first two digits of the HS code, or “HS2,” provide a wide range of product classifications.\n",
    "    hs_mappings[\"hs2_id\"] = hs_mappings[\"hs6_id\"].str[:2]\n",
    "\n",
    "    # Going on to HS4, this level of classification offers a more precise identification and includes the first four digits of the HS code.\n",
    "    hs_mappings[\"hs4_id\"] = hs_mappings[\"hs6_id\"].str[:4]\n",
    "\n",
    "    return hs_mappings.drop(\"product_id\", axis=1).copy()"
   ]
  },
  {
   "cell_type": "code",
   "execution_count": 22,
   "metadata": {},
   "outputs": [],
   "source": [
    "def get_hs2_difference(data: pd.DataFrame, pct_change: bool = False) -> pd.DataFrame:\n",
    "\n",
    "    columns = [\"year\", \"hs2_id\", \"trade_value\"]\n",
    "    local = data[columns].groupby(columns[:2]).sum().reset_index().copy()\n",
    "    local = local.pivot(index=\"hs2_id\", columns=\"year\", values=\"trade_value\").reset_index().copy()\n",
    "\n",
    "    local.columns.name = \"\"\n",
    "\n",
    "    if pct_change:\n",
    "        local[\"change\"] = (((local[2022] / local[2021]) - 1) * 100).round(2)\n",
    "    else:\n",
    "        local[\"change\"] = local[2022] - local[2021]\n",
    "        \n",
    "    return local[[\"hs2_id\", \"change\"]].copy()"
   ]
  },
  {
   "cell_type": "code",
   "execution_count": 53,
   "metadata": {},
   "outputs": [],
   "source": [
    "def create_bar(df: pd.DataFrame, trade_type: str):\n",
    "\n",
    "    max_change = max(abs(df['change'].min()), df['change'].max())\n",
    "\n",
    "    fig = px.bar(\n",
    "        df,\n",
    "        x=\"section\",\n",
    "        y=\"change\",\n",
    "        text=\"change\"\n",
    "    )\n",
    "\n",
    "    fig.update_layout(\n",
    "        title={\n",
    "            \"x\": 0.5,\n",
    "            \"xanchor\": \"center\",\n",
    "            \"yanchor\": \"top\"\n",
    "        },\n",
    "        title_font_size=40,\n",
    "        width=1600,\n",
    "        height=1200,\n",
    "        xaxis_title=\"Non US state\",\n",
    "        yaxis_title=\"Change (%)\",\n",
    "        # plot_bgcolor='rgba(0,0,0,0)',\n",
    "        # paper_bgcolor='rgba(0,0,0,0)',\n",
    "        yaxis=dict(range=[-max_change, max_change])\n",
    "    )\n",
    "\n",
    "    fig.update_traces(\n",
    "        marker_color=COLORS[\"ash_gray\"],\n",
    "        texttemplate='%{text:.2f}%',\n",
    "        insidetextanchor='middle',\n",
    "        textfont=dict(color=\"black\")\n",
    "    )\n",
    "\n",
    "    fig.show()\n"
   ]
  },
  {
   "cell_type": "code",
   "execution_count": 82,
   "metadata": {},
   "outputs": [],
   "source": [
    "def create_bar(df: pd.DataFrame, title: str):\n",
    "\n",
    "    # Create a horizontal bar chart\n",
    "    fig = px.bar(\n",
    "        df,\n",
    "        x=\"change\",   # Set x to \"change\" to represent the bar length\n",
    "        y=\"section\",  # Set y to \"section\" to represent each category on the y-axis\n",
    "        text=\"change\",\n",
    "        orientation='h'  # Specify horizontal orientation\n",
    "    )\n",
    "\n",
    "    fig.update_layout(\n",
    "        title={\n",
    "            \"text\": title,\n",
    "            \"x\": 0.5,\n",
    "            \"xanchor\": \"center\",\n",
    "            \"yanchor\": \"top\",\n",
    "            \"pad\": {\"t\": 20, \"b\": 30}\n",
    "        },\n",
    "        title_font_size=40,\n",
    "        width=1600,\n",
    "        height=1200,\n",
    "        xaxis_title=\"Change (%)\",\n",
    "        # yaxis_title=\"Section\",\n",
    "        yaxis=dict(autorange=\"reversed\"), \n",
    "        yaxis_tickangle=0, \n",
    "        plot_bgcolor='rgba(0,0,0,0)',\n",
    "        paper_bgcolor='rgba(0,0,0,0)',\n",
    "    )\n",
    "\n",
    "    fig.update_traces(\n",
    "        marker_color=COLORS[\"ash_gray\"],\n",
    "        texttemplate='%{text:.2f}%',\n",
    "        textposition='inside',\n",
    "        insidetextanchor='middle',\n",
    "        textfont=dict(color=\"black\")\n",
    "    )\n",
    "\n",
    "    fig.show()\n"
   ]
  },
  {
   "cell_type": "code",
   "execution_count": 83,
   "metadata": {},
   "outputs": [],
   "source": [
    "hs_mappings = load_hs_mappings()\n",
    "get_us_data = lambda df: df.loc[df[\"state_name\"].isin(us_state_mapping.keys())].reset_index(drop=True)"
   ]
  },
  {
   "cell_type": "code",
   "execution_count": 85,
   "metadata": {},
   "outputs": [
    {
     "name": "stdout",
     "output_type": "stream",
     "text": [
      "exports\n",
      "imports\n"
     ]
    }
   ],
   "source": [
    "for trade_type, group in {\"exports\": get_us_data(exports).copy(), \"imports\": get_us_data(imports).copy()}.items():\n",
    "\n",
    "    temp = get_hs2_difference(group, True).merge(hs_mappings[[\"hs2_id\", \"hs2\", \"section\"]].drop_duplicates(), \"left\", \"hs2_id\").copy()\n",
    "\n",
    "    print(trade_type)\n",
    "    # create_bar(temp.groupby(\"section\")[\"change\"].sum().reset_index(), \"\" ) #f\"US States {trade_type.title()} change by Section\""
   ]
  },
  {
   "cell_type": "markdown",
   "metadata": {},
   "source": [
    "## 1.3 What are the top 10 partner countries (`country_name`) for import and export in 2022 and how its share (as part of total import and export value) changed YoY"
   ]
  },
  {
   "cell_type": "code",
   "execution_count": 6,
   "metadata": {},
   "outputs": [],
   "source": [
    "def get_difference(data: pd.DataFrame, pct_change: bool = False) -> pd.DataFrame:\n",
    "\n",
    "    columns = [\"year\", \"country_name\", \"trade_value\"]\n",
    "    local = data[columns].groupby(columns[:2]).sum().reset_index().copy()\n",
    "    local = local.pivot(index=\"country_name\", columns=\"year\", values=\"trade_value\").reset_index().copy()\n",
    "\n",
    "    local.columns.name = \"\"\n",
    "\n",
    "    if pct_change:\n",
    "        local[\"change\"] = (((local[2022] / local[2021]) - 1) * 100).round(2)\n",
    "    else:\n",
    "        local[\"change\"] = local[2022] - local[2021]\n",
    "        \n",
    "    return local[[\"country_name\", \"change\"]].copy()"
   ]
  },
  {
   "cell_type": "code",
   "execution_count": 7,
   "metadata": {},
   "outputs": [],
   "source": [
    "def get_data(data: pd.DataFrame) -> pd.DataFrame:\n",
    "\n",
    "    return get_difference(data, True).merge(pd.read_csv(\"country_codes.csv\"), \"left\", \"country_name\").sort_values(\"change\").dropna().reset_index(drop=True).copy()\n",
    "   "
   ]
  },
  {
   "cell_type": "code",
   "execution_count": 73,
   "metadata": {},
   "outputs": [],
   "source": [
    "def create_world_map(data: pd.DataFrame, trade_type: str):\n",
    "    \n",
    "    # Make a copy of the dataframe to avoid modifying the original\n",
    "    df = data.copy()\n",
    "    \n",
    "    pd.concat([data.tail(10), data.head(10)]).sort_values(\"change\", ascending=False).drop(\"country_code\", axis=1).to_excel(f\"data/{trade_type}.xlsx\", index=False)\n",
    "\n",
    "    # Define a color scale that assigns red to negative values and green to positive values\n",
    "    fig = px.choropleth(\n",
    "        df,\n",
    "        locations=\"country_code\",\n",
    "        color=\"change\",\n",
    "        hover_name=\"country_name\",\n",
    "        title=f\"World Map Showing Change in {trade_type.title()}\",\n",
    "        color_continuous_scale=[\"white\", \"green\"],  # Red for negative, Green for positive\n",
    "        range_color=(df['change'].min(), df['change'].max())  # Ensure color range covers the full data range\n",
    "    )\n",
    "\n",
    "    # Update layout for better presentation and larger size\n",
    "    fig.update_layout(\n",
    "        title_font_size=20,\n",
    "        width=1400,  # Set width to make the map larger\n",
    "        height=800,  # Set height to make the map larger\n",
    "        geo=dict(showframe=False, showcoastlines=False),\n",
    "        coloraxis_colorbar=dict(title=\"Change (%)\"),\n",
    "    )\n",
    "\n",
    "\n",
    "    \n",
    "    # Show the figure\n",
    "    fig.show()"
   ]
  },
  {
   "cell_type": "code",
   "execution_count": 74,
   "metadata": {},
   "outputs": [
    {
     "data": {
      "application/vnd.plotly.v1+json": {
       "config": {
        "plotlyServerURL": "https://plot.ly"
       },
       "data": [
        {
         "coloraxis": "coloraxis",
         "geo": "geo",
         "hovertemplate": "<b>%{hovertext}</b><br><br>country_code=%{location}<br>change=%{z}<extra></extra>",
         "hovertext": [
          "Guinea-Bissau",
          "South Sudan",
          "Antigua and Barbuda",
          "Uzbekistan",
          "Central African Republic",
          "Benin",
          "Aruba",
          "Gibraltar",
          "Cameroon",
          "Belarus",
          "French Polynesia",
          "Russia",
          "Dominica",
          "Tokelau",
          "Tuvalu",
          "Panama",
          "Jamaica",
          "Greenland",
          "Ukraine",
          "Eritrea",
          "Guinea",
          "Zambia",
          "Sao Tome and Principe",
          "Montenegro",
          "Estonia",
          "Bhutan",
          "Niger",
          "Saint Kitts and Nevis",
          "Papua New Guinea",
          "Syria",
          "Cook Islands",
          "Equatorial Guinea",
          "Egypt",
          "Armenia",
          "British Virgin Islands",
          "Comoros",
          "South Africa",
          "Montserrat",
          "Tonga",
          "Liechtenstein",
          "Malta",
          "Saint Lucia",
          "Micronesia",
          "Belize",
          "Norway",
          "Netherlands",
          "Haiti",
          "Switzerland",
          "Malaysia",
          "Lesotho",
          "Denmark",
          "Eswatini",
          "Croatia",
          "Afghanistan",
          "Bosnia and Herzegovina",
          "Germany",
          "Tunisia",
          "Somalia",
          "Singapore",
          "Japan",
          "Libya",
          "New Zealand",
          "Djibouti",
          "Vanuatu",
          "China",
          "Lebanon",
          "Dominican Republic",
          "Nauru",
          "Chile",
          "Ireland",
          "Hungary",
          "United Kingdom",
          "Macau",
          "Italy",
          "Suriname",
          "New Caledonia",
          "Sweden",
          "Latvia",
          "Grenada",
          "Sierra Leone",
          "Mauritius",
          "Monaco",
          "France",
          "Samoa",
          "Malawi",
          "Cape Verde",
          "Israel",
          "Austria",
          "Jordan",
          "Liberia",
          "Palau",
          "Chad",
          "Pakistan",
          "Wallis and Futuna",
          "Philippines",
          "Burma",
          "Barbados",
          "Mozambique",
          "Cayman Islands",
          "Marshall Islands",
          "Guatemala",
          "Honduras",
          "Czechia",
          "El Salvador",
          "Cyprus",
          "Seychelles",
          "Mexico",
          "Turkey",
          "Iceland",
          "Taiwan",
          "India",
          "Reunion",
          "South Korea",
          "Peru",
          "Hong Kong",
          "Poland",
          "United Arab Emirates",
          "Sri Lanka",
          "Nepal",
          "Lithuania",
          "Guyana",
          "Ethiopia",
          "Brazil",
          "Canada",
          "Slovakia",
          "Fiji",
          "Luxembourg",
          "Nicaragua",
          "Spain",
          "Laos",
          "Belgium",
          "Romania",
          "Thailand",
          "Ecuador",
          "Kenya",
          "Serbia",
          "Moldova",
          "Australia",
          "Vietnam",
          "Andorra",
          "San Marino",
          "Trinidad and Tobago",
          "Finland",
          "Portugal",
          "Bulgaria",
          "Indonesia",
          "Costa Rica",
          "Bermuda",
          "Sint Maarten",
          "Argentina",
          "Martinique",
          "Morocco",
          "Gambia",
          "Paraguay",
          "Greece",
          "Faroe Islands",
          "Nigeria",
          "Bolivia",
          "Uruguay",
          "Mayotte",
          "Venezuela",
          "Bangladesh",
          "Madagascar",
          "Guadeloupe",
          "Colombia",
          "Mongolia",
          "Cambodia",
          "Kosovo",
          "Oman",
          "Saint Pierre and Miquelon",
          "Qatar",
          "Saint Vincent and the Grenadines",
          "Tanzania",
          "Mauritania",
          "Algeria",
          "Ghana",
          "Kazakhstan",
          "Maldives",
          "Kyrgyzstan",
          "Angola",
          "Namibia",
          "Burundi",
          "Bahrain",
          "Rwanda",
          "Saudi Arabia",
          "Kiribati",
          "Botswana",
          "Mali",
          "Kuwait",
          "Burkina Faso",
          "Tajikistan",
          "Slovenia",
          "Timor-Leste",
          "Zimbabwe",
          "Azerbaijan",
          "Uganda",
          "Georgia",
          "Gabon",
          "Cuba",
          "Sudan",
          "Albania",
          "Turks and Caicos Islands",
          "Turkmenistan",
          "Iraq",
          "Bahamas",
          "Yemen",
          "Senegal",
          "Togo",
          "Niue",
          "Solomon Islands",
          "Brunei",
          "Holy See (Vatican City)",
          "Pitcairn Islands",
          "Anguilla",
          "Iran",
          "Heard Island and McDonald Islands"
         ],
         "locations": [
          "GNB",
          "SSD",
          "ATG",
          "UZB",
          "CAF",
          "BEN",
          "ABW",
          "GIB",
          "CMR",
          "BLR",
          "PYF",
          "RUS",
          "DMA",
          "TKL",
          "TUV",
          "PAN",
          "JAM",
          "GRL",
          "UKR",
          "ERI",
          "GIN",
          "ZMB",
          "STP",
          "MNE",
          "EST",
          "BTN",
          "NER",
          "KNA",
          "PNG",
          "SYR",
          "COK",
          "GNQ",
          "EGY",
          "ARM",
          "VGB",
          "COM",
          "ZAF",
          "MSR",
          "TON",
          "LIE",
          "MLT",
          "LCA",
          "FSM",
          "BLZ",
          "NOR",
          "NLD",
          "HTI",
          "CHE",
          "MYS",
          "LSO",
          "DNK",
          "SWZ",
          "HRV",
          "AFG",
          "BIH",
          "DEU",
          "TUN",
          "SOM",
          "SGP",
          "JPN",
          "LBY",
          "NZL",
          "DJI",
          "VUT",
          "CHN",
          "LBN",
          "DOM",
          "NRU",
          "CHL",
          "IRL",
          "HUN",
          "GBR",
          "MAC",
          "ITA",
          "SUR",
          "NCL",
          "SWE",
          "LVA",
          "GRD",
          "SLE",
          "MUS",
          "MCO",
          "FRA",
          "WSM",
          "MWI",
          "CPV",
          "ISR",
          "AUT",
          "JOR",
          "LBR",
          "PLW",
          "TCD",
          "PAK",
          "WLF",
          "PHL",
          "MMR",
          "BRB",
          "MOZ",
          "CYM",
          "MHL",
          "GTM",
          "HND",
          "CZE",
          "SLV",
          "CYP",
          "SYC",
          "MEX",
          "TUR",
          "ISL",
          "TWN",
          "IND",
          "REU",
          "KOR",
          "PER",
          "HKG",
          "POL",
          "ARE",
          "LKA",
          "NPL",
          "LTU",
          "GUY",
          "ETH",
          "BRA",
          "CAN",
          "SVK",
          "FJI",
          "LUX",
          "NIC",
          "ESP",
          "LAO",
          "BEL",
          "ROU",
          "THA",
          "ECU",
          "KEN",
          "SRB",
          "MDA",
          "AUS",
          "VNM",
          "AND",
          "SMR",
          "TTO",
          "FIN",
          "PRT",
          "BGR",
          "IDN",
          "CRI",
          "BMU",
          "SXM",
          "ARG",
          "MTQ",
          "MAR",
          "GMB",
          "PRY",
          "GRC",
          "FRO",
          "NGA",
          "BOL",
          "URY",
          "MYT",
          "VEN",
          "BGD",
          "MDG",
          "GLP",
          "COL",
          "MNG",
          "KHM",
          "KSV",
          "OMN",
          "SPM",
          "QAT",
          "VCT",
          "TZA",
          "MRT",
          "DZA",
          "GHA",
          "KAZ",
          "MDV",
          "KGZ",
          "AGO",
          "NAM",
          "BDI",
          "BHR",
          "RWA",
          "SAU",
          "KIR",
          "BWA",
          "MLI",
          "KWT",
          "BFA",
          "TJK",
          "SVN",
          "TLS",
          "ZWE",
          "AZE",
          "UGA",
          "GEO",
          "GAB",
          "CUB",
          "SDN",
          "ALB",
          "TCA",
          "TKM",
          "IRQ",
          "BHM",
          "YEM",
          "SEN",
          "TGO",
          "NIU",
          "SLB",
          "BRN",
          "VAT",
          "PCN",
          "AIA",
          "IRN",
          "HMD"
         ],
         "name": "",
         "type": "choropleth",
         "z": [
          -91.4,
          -83.06,
          -74.92,
          -72.68,
          -68.98,
          -67.69,
          -67.63,
          -65.34,
          -59.12,
          -58.32,
          -57.52,
          -55.46,
          -46.84,
          -44.62,
          -44.26,
          -43.17,
          -40.92,
          -39.42,
          -38.01,
          -37.96,
          -37.73,
          -37.41,
          -36.93,
          -36.84,
          -34.9,
          -33.44,
          -32.33,
          -31.08,
          -30.53,
          -26.32,
          -26.07,
          -25.69,
          -25.11,
          -23.74,
          -23.06,
          -23.04,
          -22.3,
          -21.82,
          -21.52,
          -21.12,
          -20.46,
          -20.41,
          -19.94,
          -19.86,
          -19.21,
          -19.19,
          -18.98,
          -18.69,
          -17.58,
          -16.66,
          -16.01,
          -15.25,
          -13.71,
          -13.43,
          -12.66,
          -12.03,
          -11.82,
          -11.55,
          -9.42,
          -9.28,
          -9.26,
          -9.17,
          -9.08,
          -8.66,
          -8.65,
          -8.4,
          -8.38,
          -8.36,
          -8.35,
          -7.7,
          -7.5,
          -7.34,
          -7.08,
          -6.55,
          -6.3,
          -6.3,
          -6.16,
          -6.14,
          -6.1,
          -5.76,
          -5.57,
          -5.48,
          -4.94,
          -4.79,
          -4.59,
          -4.35,
          -4.3,
          -3.69,
          -3.63,
          -3.63,
          -3.1,
          -3.07,
          -3.05,
          -2.87,
          -2.7,
          -2.6,
          -2.33,
          -2.27,
          -2.25,
          -2.21,
          -1.91,
          -1.47,
          -1.4,
          -1.24,
          -0.99,
          -0.84,
          -0.69,
          -0.69,
          -0.44,
          -0.17,
          0.27,
          0.44,
          0.68,
          1.26,
          1.26,
          1.54,
          1.63,
          2.67,
          2.82,
          3.02,
          3.15,
          3.48,
          3.84,
          3.87,
          3.98,
          4.03,
          4.23,
          4.56,
          4.62,
          4.77,
          4.9,
          5.39,
          5.41,
          6.44,
          6.48,
          7.4,
          7.46,
          7.55,
          7.55,
          7.62,
          7.74,
          7.77,
          8.65,
          8.85,
          8.86,
          9.21,
          9.39,
          9.75,
          11.3,
          11.38,
          11.67,
          12.92,
          13.35,
          14.64,
          14.9,
          14.98,
          15.08,
          15.26,
          15.31,
          15.46,
          16.09,
          16.87,
          17.55,
          18.54,
          19.59,
          20.58,
          21.78,
          22.04,
          24.02,
          24.97,
          25.65,
          26.9,
          30.79,
          33.24,
          34.18,
          36.22,
          37.14,
          39.18,
          39.39,
          40.82,
          42.45,
          44.1,
          44.11,
          44.76,
          46.25,
          47.86,
          48.78,
          50.1,
          51.78,
          53.46,
          54.03,
          58.79,
          59.99,
          64.99,
          65.02,
          66.58,
          74.12,
          75.25,
          80.93,
          90.45,
          92.4,
          97.29,
          109.93,
          121.75,
          162.59,
          200.33,
          221.32,
          234.14,
          253.91,
          270.08,
          332.56,
          337.43,
          707.59,
          765.37,
          783.54,
          4413.62
         ]
        }
       ],
       "layout": {
        "coloraxis": {
         "cmax": 4413.62,
         "cmin": -91.4,
         "colorbar": {
          "title": {
           "text": "Change (%)"
          }
         },
         "colorscale": [
          [
           0,
           "white"
          ],
          [
           1,
           "green"
          ]
         ]
        },
        "geo": {
         "center": {},
         "domain": {
          "x": [
           0,
           1
          ],
          "y": [
           0,
           1
          ]
         },
         "showcoastlines": false,
         "showframe": false
        },
        "height": 800,
        "legend": {
         "tracegroupgap": 0
        },
        "template": {
         "data": {
          "bar": [
           {
            "error_x": {
             "color": "#2a3f5f"
            },
            "error_y": {
             "color": "#2a3f5f"
            },
            "marker": {
             "line": {
              "color": "#E5ECF6",
              "width": 0.5
             },
             "pattern": {
              "fillmode": "overlay",
              "size": 10,
              "solidity": 0.2
             }
            },
            "type": "bar"
           }
          ],
          "barpolar": [
           {
            "marker": {
             "line": {
              "color": "#E5ECF6",
              "width": 0.5
             },
             "pattern": {
              "fillmode": "overlay",
              "size": 10,
              "solidity": 0.2
             }
            },
            "type": "barpolar"
           }
          ],
          "carpet": [
           {
            "aaxis": {
             "endlinecolor": "#2a3f5f",
             "gridcolor": "white",
             "linecolor": "white",
             "minorgridcolor": "white",
             "startlinecolor": "#2a3f5f"
            },
            "baxis": {
             "endlinecolor": "#2a3f5f",
             "gridcolor": "white",
             "linecolor": "white",
             "minorgridcolor": "white",
             "startlinecolor": "#2a3f5f"
            },
            "type": "carpet"
           }
          ],
          "choropleth": [
           {
            "colorbar": {
             "outlinewidth": 0,
             "ticks": ""
            },
            "type": "choropleth"
           }
          ],
          "contour": [
           {
            "colorbar": {
             "outlinewidth": 0,
             "ticks": ""
            },
            "colorscale": [
             [
              0,
              "#0d0887"
             ],
             [
              0.1111111111111111,
              "#46039f"
             ],
             [
              0.2222222222222222,
              "#7201a8"
             ],
             [
              0.3333333333333333,
              "#9c179e"
             ],
             [
              0.4444444444444444,
              "#bd3786"
             ],
             [
              0.5555555555555556,
              "#d8576b"
             ],
             [
              0.6666666666666666,
              "#ed7953"
             ],
             [
              0.7777777777777778,
              "#fb9f3a"
             ],
             [
              0.8888888888888888,
              "#fdca26"
             ],
             [
              1,
              "#f0f921"
             ]
            ],
            "type": "contour"
           }
          ],
          "contourcarpet": [
           {
            "colorbar": {
             "outlinewidth": 0,
             "ticks": ""
            },
            "type": "contourcarpet"
           }
          ],
          "heatmap": [
           {
            "colorbar": {
             "outlinewidth": 0,
             "ticks": ""
            },
            "colorscale": [
             [
              0,
              "#0d0887"
             ],
             [
              0.1111111111111111,
              "#46039f"
             ],
             [
              0.2222222222222222,
              "#7201a8"
             ],
             [
              0.3333333333333333,
              "#9c179e"
             ],
             [
              0.4444444444444444,
              "#bd3786"
             ],
             [
              0.5555555555555556,
              "#d8576b"
             ],
             [
              0.6666666666666666,
              "#ed7953"
             ],
             [
              0.7777777777777778,
              "#fb9f3a"
             ],
             [
              0.8888888888888888,
              "#fdca26"
             ],
             [
              1,
              "#f0f921"
             ]
            ],
            "type": "heatmap"
           }
          ],
          "heatmapgl": [
           {
            "colorbar": {
             "outlinewidth": 0,
             "ticks": ""
            },
            "colorscale": [
             [
              0,
              "#0d0887"
             ],
             [
              0.1111111111111111,
              "#46039f"
             ],
             [
              0.2222222222222222,
              "#7201a8"
             ],
             [
              0.3333333333333333,
              "#9c179e"
             ],
             [
              0.4444444444444444,
              "#bd3786"
             ],
             [
              0.5555555555555556,
              "#d8576b"
             ],
             [
              0.6666666666666666,
              "#ed7953"
             ],
             [
              0.7777777777777778,
              "#fb9f3a"
             ],
             [
              0.8888888888888888,
              "#fdca26"
             ],
             [
              1,
              "#f0f921"
             ]
            ],
            "type": "heatmapgl"
           }
          ],
          "histogram": [
           {
            "marker": {
             "pattern": {
              "fillmode": "overlay",
              "size": 10,
              "solidity": 0.2
             }
            },
            "type": "histogram"
           }
          ],
          "histogram2d": [
           {
            "colorbar": {
             "outlinewidth": 0,
             "ticks": ""
            },
            "colorscale": [
             [
              0,
              "#0d0887"
             ],
             [
              0.1111111111111111,
              "#46039f"
             ],
             [
              0.2222222222222222,
              "#7201a8"
             ],
             [
              0.3333333333333333,
              "#9c179e"
             ],
             [
              0.4444444444444444,
              "#bd3786"
             ],
             [
              0.5555555555555556,
              "#d8576b"
             ],
             [
              0.6666666666666666,
              "#ed7953"
             ],
             [
              0.7777777777777778,
              "#fb9f3a"
             ],
             [
              0.8888888888888888,
              "#fdca26"
             ],
             [
              1,
              "#f0f921"
             ]
            ],
            "type": "histogram2d"
           }
          ],
          "histogram2dcontour": [
           {
            "colorbar": {
             "outlinewidth": 0,
             "ticks": ""
            },
            "colorscale": [
             [
              0,
              "#0d0887"
             ],
             [
              0.1111111111111111,
              "#46039f"
             ],
             [
              0.2222222222222222,
              "#7201a8"
             ],
             [
              0.3333333333333333,
              "#9c179e"
             ],
             [
              0.4444444444444444,
              "#bd3786"
             ],
             [
              0.5555555555555556,
              "#d8576b"
             ],
             [
              0.6666666666666666,
              "#ed7953"
             ],
             [
              0.7777777777777778,
              "#fb9f3a"
             ],
             [
              0.8888888888888888,
              "#fdca26"
             ],
             [
              1,
              "#f0f921"
             ]
            ],
            "type": "histogram2dcontour"
           }
          ],
          "mesh3d": [
           {
            "colorbar": {
             "outlinewidth": 0,
             "ticks": ""
            },
            "type": "mesh3d"
           }
          ],
          "parcoords": [
           {
            "line": {
             "colorbar": {
              "outlinewidth": 0,
              "ticks": ""
             }
            },
            "type": "parcoords"
           }
          ],
          "pie": [
           {
            "automargin": true,
            "type": "pie"
           }
          ],
          "scatter": [
           {
            "fillpattern": {
             "fillmode": "overlay",
             "size": 10,
             "solidity": 0.2
            },
            "type": "scatter"
           }
          ],
          "scatter3d": [
           {
            "line": {
             "colorbar": {
              "outlinewidth": 0,
              "ticks": ""
             }
            },
            "marker": {
             "colorbar": {
              "outlinewidth": 0,
              "ticks": ""
             }
            },
            "type": "scatter3d"
           }
          ],
          "scattercarpet": [
           {
            "marker": {
             "colorbar": {
              "outlinewidth": 0,
              "ticks": ""
             }
            },
            "type": "scattercarpet"
           }
          ],
          "scattergeo": [
           {
            "marker": {
             "colorbar": {
              "outlinewidth": 0,
              "ticks": ""
             }
            },
            "type": "scattergeo"
           }
          ],
          "scattergl": [
           {
            "marker": {
             "colorbar": {
              "outlinewidth": 0,
              "ticks": ""
             }
            },
            "type": "scattergl"
           }
          ],
          "scattermapbox": [
           {
            "marker": {
             "colorbar": {
              "outlinewidth": 0,
              "ticks": ""
             }
            },
            "type": "scattermapbox"
           }
          ],
          "scatterpolar": [
           {
            "marker": {
             "colorbar": {
              "outlinewidth": 0,
              "ticks": ""
             }
            },
            "type": "scatterpolar"
           }
          ],
          "scatterpolargl": [
           {
            "marker": {
             "colorbar": {
              "outlinewidth": 0,
              "ticks": ""
             }
            },
            "type": "scatterpolargl"
           }
          ],
          "scatterternary": [
           {
            "marker": {
             "colorbar": {
              "outlinewidth": 0,
              "ticks": ""
             }
            },
            "type": "scatterternary"
           }
          ],
          "surface": [
           {
            "colorbar": {
             "outlinewidth": 0,
             "ticks": ""
            },
            "colorscale": [
             [
              0,
              "#0d0887"
             ],
             [
              0.1111111111111111,
              "#46039f"
             ],
             [
              0.2222222222222222,
              "#7201a8"
             ],
             [
              0.3333333333333333,
              "#9c179e"
             ],
             [
              0.4444444444444444,
              "#bd3786"
             ],
             [
              0.5555555555555556,
              "#d8576b"
             ],
             [
              0.6666666666666666,
              "#ed7953"
             ],
             [
              0.7777777777777778,
              "#fb9f3a"
             ],
             [
              0.8888888888888888,
              "#fdca26"
             ],
             [
              1,
              "#f0f921"
             ]
            ],
            "type": "surface"
           }
          ],
          "table": [
           {
            "cells": {
             "fill": {
              "color": "#EBF0F8"
             },
             "line": {
              "color": "white"
             }
            },
            "header": {
             "fill": {
              "color": "#C8D4E3"
             },
             "line": {
              "color": "white"
             }
            },
            "type": "table"
           }
          ]
         },
         "layout": {
          "annotationdefaults": {
           "arrowcolor": "#2a3f5f",
           "arrowhead": 0,
           "arrowwidth": 1
          },
          "autotypenumbers": "strict",
          "coloraxis": {
           "colorbar": {
            "outlinewidth": 0,
            "ticks": ""
           }
          },
          "colorscale": {
           "diverging": [
            [
             0,
             "#8e0152"
            ],
            [
             0.1,
             "#c51b7d"
            ],
            [
             0.2,
             "#de77ae"
            ],
            [
             0.3,
             "#f1b6da"
            ],
            [
             0.4,
             "#fde0ef"
            ],
            [
             0.5,
             "#f7f7f7"
            ],
            [
             0.6,
             "#e6f5d0"
            ],
            [
             0.7,
             "#b8e186"
            ],
            [
             0.8,
             "#7fbc41"
            ],
            [
             0.9,
             "#4d9221"
            ],
            [
             1,
             "#276419"
            ]
           ],
           "sequential": [
            [
             0,
             "#0d0887"
            ],
            [
             0.1111111111111111,
             "#46039f"
            ],
            [
             0.2222222222222222,
             "#7201a8"
            ],
            [
             0.3333333333333333,
             "#9c179e"
            ],
            [
             0.4444444444444444,
             "#bd3786"
            ],
            [
             0.5555555555555556,
             "#d8576b"
            ],
            [
             0.6666666666666666,
             "#ed7953"
            ],
            [
             0.7777777777777778,
             "#fb9f3a"
            ],
            [
             0.8888888888888888,
             "#fdca26"
            ],
            [
             1,
             "#f0f921"
            ]
           ],
           "sequentialminus": [
            [
             0,
             "#0d0887"
            ],
            [
             0.1111111111111111,
             "#46039f"
            ],
            [
             0.2222222222222222,
             "#7201a8"
            ],
            [
             0.3333333333333333,
             "#9c179e"
            ],
            [
             0.4444444444444444,
             "#bd3786"
            ],
            [
             0.5555555555555556,
             "#d8576b"
            ],
            [
             0.6666666666666666,
             "#ed7953"
            ],
            [
             0.7777777777777778,
             "#fb9f3a"
            ],
            [
             0.8888888888888888,
             "#fdca26"
            ],
            [
             1,
             "#f0f921"
            ]
           ]
          },
          "colorway": [
           "#636efa",
           "#EF553B",
           "#00cc96",
           "#ab63fa",
           "#FFA15A",
           "#19d3f3",
           "#FF6692",
           "#B6E880",
           "#FF97FF",
           "#FECB52"
          ],
          "font": {
           "color": "#2a3f5f"
          },
          "geo": {
           "bgcolor": "white",
           "lakecolor": "white",
           "landcolor": "#E5ECF6",
           "showlakes": true,
           "showland": true,
           "subunitcolor": "white"
          },
          "hoverlabel": {
           "align": "left"
          },
          "hovermode": "closest",
          "mapbox": {
           "style": "light"
          },
          "paper_bgcolor": "white",
          "plot_bgcolor": "#E5ECF6",
          "polar": {
           "angularaxis": {
            "gridcolor": "white",
            "linecolor": "white",
            "ticks": ""
           },
           "bgcolor": "#E5ECF6",
           "radialaxis": {
            "gridcolor": "white",
            "linecolor": "white",
            "ticks": ""
           }
          },
          "scene": {
           "xaxis": {
            "backgroundcolor": "#E5ECF6",
            "gridcolor": "white",
            "gridwidth": 2,
            "linecolor": "white",
            "showbackground": true,
            "ticks": "",
            "zerolinecolor": "white"
           },
           "yaxis": {
            "backgroundcolor": "#E5ECF6",
            "gridcolor": "white",
            "gridwidth": 2,
            "linecolor": "white",
            "showbackground": true,
            "ticks": "",
            "zerolinecolor": "white"
           },
           "zaxis": {
            "backgroundcolor": "#E5ECF6",
            "gridcolor": "white",
            "gridwidth": 2,
            "linecolor": "white",
            "showbackground": true,
            "ticks": "",
            "zerolinecolor": "white"
           }
          },
          "shapedefaults": {
           "line": {
            "color": "#2a3f5f"
           }
          },
          "ternary": {
           "aaxis": {
            "gridcolor": "white",
            "linecolor": "white",
            "ticks": ""
           },
           "baxis": {
            "gridcolor": "white",
            "linecolor": "white",
            "ticks": ""
           },
           "bgcolor": "#E5ECF6",
           "caxis": {
            "gridcolor": "white",
            "linecolor": "white",
            "ticks": ""
           }
          },
          "title": {
           "x": 0.05
          },
          "xaxis": {
           "automargin": true,
           "gridcolor": "white",
           "linecolor": "white",
           "ticks": "",
           "title": {
            "standoff": 15
           },
           "zerolinecolor": "white",
           "zerolinewidth": 2
          },
          "yaxis": {
           "automargin": true,
           "gridcolor": "white",
           "linecolor": "white",
           "ticks": "",
           "title": {
            "standoff": 15
           },
           "zerolinecolor": "white",
           "zerolinewidth": 2
          }
         }
        },
        "title": {
         "font": {
          "size": 20
         },
         "text": "World Map Showing Change in Imports"
        },
        "width": 1400
       }
      }
     },
     "metadata": {},
     "output_type": "display_data"
    }
   ],
   "source": [
    "create_world_map(get_data(imports), \"imports\")"
   ]
  },
  {
   "cell_type": "code",
   "execution_count": 76,
   "metadata": {},
   "outputs": [
    {
     "data": {
      "application/vnd.plotly.v1+json": {
       "config": {
        "plotlyServerURL": "https://plot.ly"
       },
       "data": [
        {
         "coloraxis": "coloraxis",
         "geo": "geo",
         "hovertemplate": "<b>%{hovertext}</b><br><br>country_code=%{location}<br>change=%{z}<extra></extra>",
         "hovertext": [
          "San Marino",
          "Afghanistan",
          "Heard Island and McDonald Islands",
          "Gibraltar",
          "Pitcairn Islands",
          "Belarus",
          "Russia",
          "Holy See (Vatican City)",
          "Mayotte",
          "Fiji",
          "Dominica",
          "Turkmenistan",
          "Niger",
          "Cyprus",
          "Bosnia and Herzegovina",
          "Faroe Islands",
          "Burma",
          "Greenland",
          "Solomon Islands",
          "Ukraine",
          "Monaco",
          "Guinea-Bissau",
          "Uzbekistan",
          "Burkina Faso",
          "Nauru",
          "Kosovo",
          "South Sudan",
          "Bhutan",
          "Mali",
          "Andorra",
          "Guinea",
          "Tonga",
          "Reunion",
          "Sri Lanka",
          "Romania",
          "Hong Kong",
          "Estonia",
          "Botswana",
          "Zimbabwe",
          "Senegal",
          "Hungary",
          "Bahrain",
          "Nigeria",
          "Sierra Leone",
          "Pakistan",
          "Djibouti",
          "Benin",
          "Mauritania",
          "Palau",
          "Libya",
          "Latvia",
          "Anguilla",
          "China",
          "Bolivia",
          "Saudi Arabia",
          "Moldova",
          "Philippines",
          "Tanzania",
          "Austria",
          "Paraguay",
          "Brunei",
          "Czechia",
          "Barbados",
          "Iceland",
          "Mongolia",
          "Belgium",
          "Cuba",
          "Indonesia",
          "Vietnam",
          "Ghana",
          "Oman",
          "Haiti",
          "New Zealand",
          "Japan",
          "Bermuda",
          "Iran",
          "Iraq",
          "Uganda",
          "Montserrat",
          "South Korea",
          "Samoa",
          "Albania",
          "Slovakia",
          "Tunisia",
          "Kazakhstan",
          "Germany",
          "Lebanon",
          "Norway",
          "Saint Kitts and Nevis",
          "Israel",
          "Australia",
          "Belize",
          "Guyana",
          "Luxembourg",
          "Sudan",
          "Aruba",
          "Togo",
          "Kuwait",
          "Costa Rica",
          "French Polynesia",
          "Canada",
          "Taiwan",
          "New Caledonia",
          "Brazil",
          "Cambodia",
          "South Africa",
          "United Arab Emirates",
          "Jordan",
          "Egypt",
          "India",
          "Ireland",
          "Mexico",
          "Kenya",
          "Malaysia",
          "Qatar",
          "Denmark",
          "Cayman Islands",
          "United Kingdom",
          "Gambia",
          "El Salvador",
          "Portugal",
          "Grenada",
          "Turkey",
          "Mauritius",
          "Macau",
          "Thailand",
          "Nicaragua",
          "Mozambique",
          "Bangladesh",
          "Morocco",
          "Honduras",
          "Italy",
          "Guatemala",
          "Burundi",
          "Colombia",
          "Venezuela",
          "Micronesia",
          "Cameroon",
          "Rwanda",
          "Marshall Islands",
          "Laos",
          "Singapore",
          "Dominican Republic",
          "Azerbaijan",
          "Yemen",
          "Seychelles",
          "Netherlands",
          "Cape Verde",
          "Gabon",
          "Serbia",
          "Peru",
          "Trinidad and Tobago",
          "Jamaica",
          "Comoros",
          "Chile",
          "Panama",
          "Eritrea",
          "Angola",
          "Equatorial Guinea",
          "Sao Tome and Principe",
          "Nepal",
          "Turks and Caicos Islands",
          "Greece",
          "Zambia",
          "Sweden",
          "Central African Republic",
          "Saint Vincent and the Grenadines",
          "Ecuador",
          "France",
          "Madagascar",
          "Cook Islands",
          "Kyrgyzstan",
          "Ethiopia",
          "Algeria",
          "Bulgaria",
          "Switzerland",
          "Finland",
          "Georgia",
          "Uruguay",
          "Slovenia",
          "Spain",
          "Sint Maarten",
          "Suriname",
          "Bahamas",
          "Malawi",
          "Argentina",
          "Liberia",
          "British Virgin Islands",
          "Antigua and Barbuda",
          "Saint Lucia",
          "Lesotho",
          "Guadeloupe",
          "Poland",
          "Somalia",
          "Martinique",
          "Liechtenstein",
          "Malta",
          "Lithuania",
          "Timor-Leste",
          "Chad",
          "Eswatini",
          "Tuvalu",
          "Croatia",
          "Maldives",
          "Namibia",
          "Wallis and Futuna",
          "Papua New Guinea",
          "Montenegro",
          "Vanuatu",
          "Armenia",
          "Tokelau",
          "Kiribati",
          "Niue",
          "Syria",
          "Tajikistan",
          "Saint Pierre and Miquelon"
         ],
         "locations": [
          "SMR",
          "AFG",
          "HMD",
          "GIB",
          "PCN",
          "BLR",
          "RUS",
          "VAT",
          "MYT",
          "FJI",
          "DMA",
          "TKM",
          "NER",
          "CYP",
          "BIH",
          "FRO",
          "MMR",
          "GRL",
          "SLB",
          "UKR",
          "MCO",
          "GNB",
          "UZB",
          "BFA",
          "NRU",
          "KSV",
          "SSD",
          "BTN",
          "MLI",
          "AND",
          "GIN",
          "TON",
          "REU",
          "LKA",
          "ROU",
          "HKG",
          "EST",
          "BWA",
          "ZWE",
          "SEN",
          "HUN",
          "BHR",
          "NGA",
          "SLE",
          "PAK",
          "DJI",
          "BEN",
          "MRT",
          "PLW",
          "LBY",
          "LVA",
          "AIA",
          "CHN",
          "BOL",
          "SAU",
          "MDA",
          "PHL",
          "TZA",
          "AUT",
          "PRY",
          "BRN",
          "CZE",
          "BRB",
          "ISL",
          "MNG",
          "BEL",
          "CUB",
          "IDN",
          "VNM",
          "GHA",
          "OMN",
          "HTI",
          "NZL",
          "JPN",
          "BMU",
          "IRN",
          "IRQ",
          "UGA",
          "MSR",
          "KOR",
          "WSM",
          "ALB",
          "SVK",
          "TUN",
          "KAZ",
          "DEU",
          "LBN",
          "NOR",
          "KNA",
          "ISR",
          "AUS",
          "BLZ",
          "GUY",
          "LUX",
          "SDN",
          "ABW",
          "TGO",
          "KWT",
          "CRI",
          "PYF",
          "CAN",
          "TWN",
          "NCL",
          "BRA",
          "KHM",
          "ZAF",
          "ARE",
          "JOR",
          "EGY",
          "IND",
          "IRL",
          "MEX",
          "KEN",
          "MYS",
          "QAT",
          "DNK",
          "CYM",
          "GBR",
          "GMB",
          "SLV",
          "PRT",
          "GRD",
          "TUR",
          "MUS",
          "MAC",
          "THA",
          "NIC",
          "MOZ",
          "BGD",
          "MAR",
          "HND",
          "ITA",
          "GTM",
          "BDI",
          "COL",
          "VEN",
          "FSM",
          "CMR",
          "RWA",
          "MHL",
          "LAO",
          "SGP",
          "DOM",
          "AZE",
          "YEM",
          "SYC",
          "NLD",
          "CPV",
          "GAB",
          "SRB",
          "PER",
          "TTO",
          "JAM",
          "COM",
          "CHL",
          "PAN",
          "ERI",
          "AGO",
          "GNQ",
          "STP",
          "NPL",
          "TCA",
          "GRC",
          "ZMB",
          "SWE",
          "CAF",
          "VCT",
          "ECU",
          "FRA",
          "MDG",
          "COK",
          "KGZ",
          "ETH",
          "DZA",
          "BGR",
          "CHE",
          "FIN",
          "GEO",
          "URY",
          "SVN",
          "ESP",
          "SXM",
          "SUR",
          "BHM",
          "MWI",
          "ARG",
          "LBR",
          "VGB",
          "ATG",
          "LCA",
          "LSO",
          "GLP",
          "POL",
          "SOM",
          "MTQ",
          "LIE",
          "MLT",
          "LTU",
          "TLS",
          "TCD",
          "SWZ",
          "TUV",
          "HRV",
          "MDV",
          "NAM",
          "WLF",
          "PNG",
          "MNE",
          "VUT",
          "ARM",
          "TKL",
          "KIR",
          "NIU",
          "SYR",
          "TJK",
          "SPM"
         ],
         "name": "",
         "type": "choropleth",
         "z": [
          -98.99,
          -91.99,
          -89.51,
          -85.22,
          -84.74,
          -83.54,
          -75.9,
          -74.35,
          -72.25,
          -69.51,
          -64.44,
          -60.8,
          -60.47,
          -59.58,
          -58.84,
          -51.9,
          -51.52,
          -49.06,
          -47.55,
          -47.01,
          -46.81,
          -46.71,
          -44.19,
          -44.03,
          -40.12,
          -37.91,
          -37.07,
          -36,
          -34.84,
          -33.48,
          -31.31,
          -30.65,
          -29.01,
          -28.47,
          -28.37,
          -27.04,
          -25.36,
          -25.29,
          -25.06,
          -24.58,
          -23.81,
          -23.73,
          -23.7,
          -23.29,
          -22.88,
          -22.69,
          -20.2,
          -20.02,
          -19.96,
          -18.72,
          -18.32,
          -17.76,
          -17.6,
          -17.34,
          -17.14,
          -16.76,
          -16.64,
          -15.68,
          -15.48,
          -15.17,
          -15.11,
          -15.06,
          -12.75,
          -12.55,
          -11.61,
          -11.45,
          -11.38,
          -11.18,
          -10.95,
          -10.34,
          -10.26,
          -10.16,
          -10.01,
          -9.9,
          -9.75,
          -9.61,
          -9.35,
          -9.31,
          -9.03,
          -8.75,
          -7.61,
          -7.45,
          -7.13,
          -7.1,
          -7.06,
          -6.68,
          -6.66,
          -6.63,
          -6.17,
          -5.94,
          -5.89,
          -4.71,
          -4.42,
          -4.26,
          -4.24,
          -4,
          -3.71,
          -3.7,
          -3.35,
          -3.07,
          -3.06,
          -2.84,
          -2.71,
          -2.46,
          -2.4,
          -1.92,
          -1.68,
          -1.36,
          -1.35,
          -1.19,
          -1,
          -0.94,
          0.76,
          1.02,
          1.99,
          2.02,
          2.26,
          2.41,
          2.91,
          3.28,
          3.34,
          3.35,
          3.54,
          3.85,
          4.35,
          4.94,
          5,
          5.41,
          5.61,
          6.98,
          7.07,
          7.11,
          7.32,
          7.56,
          7.7,
          7.92,
          8.95,
          9.27,
          9.4,
          9.58,
          9.84,
          9.93,
          10.2,
          10.45,
          11.32,
          11.55,
          12.21,
          12.28,
          13.31,
          13.81,
          14.19,
          14.33,
          14.82,
          15.3,
          15.71,
          17.42,
          17.71,
          18.02,
          18.08,
          19.88,
          20.48,
          21.46,
          21.84,
          22.19,
          23.09,
          23.29,
          24.5,
          26.11,
          26.97,
          29.41,
          31.28,
          31.28,
          31.42,
          31.74,
          31.75,
          34.24,
          34.75,
          35.26,
          35.53,
          37.5,
          38.81,
          40.31,
          40.59,
          42.25,
          42.45,
          46.01,
          47.18,
          53.47,
          53.62,
          54.98,
          56.87,
          57.34,
          58.04,
          58.5,
          61.55,
          68.86,
          69.8,
          72.52,
          78.21,
          82.52,
          82.83,
          83.47,
          94.17,
          107.18,
          111.68,
          123.34,
          132.93,
          186.66,
          203.97,
          237.1,
          257.78,
          356.28,
          429.29,
          479.31,
          696.73,
          1868.67
         ]
        }
       ],
       "layout": {
        "coloraxis": {
         "cmax": 1868.67,
         "cmin": -98.99,
         "colorbar": {
          "title": {
           "text": "Change (%)"
          }
         },
         "colorscale": [
          [
           0,
           "white"
          ],
          [
           1,
           "green"
          ]
         ]
        },
        "geo": {
         "center": {},
         "domain": {
          "x": [
           0,
           1
          ],
          "y": [
           0,
           1
          ]
         },
         "showcoastlines": false,
         "showframe": false
        },
        "height": 800,
        "legend": {
         "tracegroupgap": 0
        },
        "template": {
         "data": {
          "bar": [
           {
            "error_x": {
             "color": "#2a3f5f"
            },
            "error_y": {
             "color": "#2a3f5f"
            },
            "marker": {
             "line": {
              "color": "#E5ECF6",
              "width": 0.5
             },
             "pattern": {
              "fillmode": "overlay",
              "size": 10,
              "solidity": 0.2
             }
            },
            "type": "bar"
           }
          ],
          "barpolar": [
           {
            "marker": {
             "line": {
              "color": "#E5ECF6",
              "width": 0.5
             },
             "pattern": {
              "fillmode": "overlay",
              "size": 10,
              "solidity": 0.2
             }
            },
            "type": "barpolar"
           }
          ],
          "carpet": [
           {
            "aaxis": {
             "endlinecolor": "#2a3f5f",
             "gridcolor": "white",
             "linecolor": "white",
             "minorgridcolor": "white",
             "startlinecolor": "#2a3f5f"
            },
            "baxis": {
             "endlinecolor": "#2a3f5f",
             "gridcolor": "white",
             "linecolor": "white",
             "minorgridcolor": "white",
             "startlinecolor": "#2a3f5f"
            },
            "type": "carpet"
           }
          ],
          "choropleth": [
           {
            "colorbar": {
             "outlinewidth": 0,
             "ticks": ""
            },
            "type": "choropleth"
           }
          ],
          "contour": [
           {
            "colorbar": {
             "outlinewidth": 0,
             "ticks": ""
            },
            "colorscale": [
             [
              0,
              "#0d0887"
             ],
             [
              0.1111111111111111,
              "#46039f"
             ],
             [
              0.2222222222222222,
              "#7201a8"
             ],
             [
              0.3333333333333333,
              "#9c179e"
             ],
             [
              0.4444444444444444,
              "#bd3786"
             ],
             [
              0.5555555555555556,
              "#d8576b"
             ],
             [
              0.6666666666666666,
              "#ed7953"
             ],
             [
              0.7777777777777778,
              "#fb9f3a"
             ],
             [
              0.8888888888888888,
              "#fdca26"
             ],
             [
              1,
              "#f0f921"
             ]
            ],
            "type": "contour"
           }
          ],
          "contourcarpet": [
           {
            "colorbar": {
             "outlinewidth": 0,
             "ticks": ""
            },
            "type": "contourcarpet"
           }
          ],
          "heatmap": [
           {
            "colorbar": {
             "outlinewidth": 0,
             "ticks": ""
            },
            "colorscale": [
             [
              0,
              "#0d0887"
             ],
             [
              0.1111111111111111,
              "#46039f"
             ],
             [
              0.2222222222222222,
              "#7201a8"
             ],
             [
              0.3333333333333333,
              "#9c179e"
             ],
             [
              0.4444444444444444,
              "#bd3786"
             ],
             [
              0.5555555555555556,
              "#d8576b"
             ],
             [
              0.6666666666666666,
              "#ed7953"
             ],
             [
              0.7777777777777778,
              "#fb9f3a"
             ],
             [
              0.8888888888888888,
              "#fdca26"
             ],
             [
              1,
              "#f0f921"
             ]
            ],
            "type": "heatmap"
           }
          ],
          "heatmapgl": [
           {
            "colorbar": {
             "outlinewidth": 0,
             "ticks": ""
            },
            "colorscale": [
             [
              0,
              "#0d0887"
             ],
             [
              0.1111111111111111,
              "#46039f"
             ],
             [
              0.2222222222222222,
              "#7201a8"
             ],
             [
              0.3333333333333333,
              "#9c179e"
             ],
             [
              0.4444444444444444,
              "#bd3786"
             ],
             [
              0.5555555555555556,
              "#d8576b"
             ],
             [
              0.6666666666666666,
              "#ed7953"
             ],
             [
              0.7777777777777778,
              "#fb9f3a"
             ],
             [
              0.8888888888888888,
              "#fdca26"
             ],
             [
              1,
              "#f0f921"
             ]
            ],
            "type": "heatmapgl"
           }
          ],
          "histogram": [
           {
            "marker": {
             "pattern": {
              "fillmode": "overlay",
              "size": 10,
              "solidity": 0.2
             }
            },
            "type": "histogram"
           }
          ],
          "histogram2d": [
           {
            "colorbar": {
             "outlinewidth": 0,
             "ticks": ""
            },
            "colorscale": [
             [
              0,
              "#0d0887"
             ],
             [
              0.1111111111111111,
              "#46039f"
             ],
             [
              0.2222222222222222,
              "#7201a8"
             ],
             [
              0.3333333333333333,
              "#9c179e"
             ],
             [
              0.4444444444444444,
              "#bd3786"
             ],
             [
              0.5555555555555556,
              "#d8576b"
             ],
             [
              0.6666666666666666,
              "#ed7953"
             ],
             [
              0.7777777777777778,
              "#fb9f3a"
             ],
             [
              0.8888888888888888,
              "#fdca26"
             ],
             [
              1,
              "#f0f921"
             ]
            ],
            "type": "histogram2d"
           }
          ],
          "histogram2dcontour": [
           {
            "colorbar": {
             "outlinewidth": 0,
             "ticks": ""
            },
            "colorscale": [
             [
              0,
              "#0d0887"
             ],
             [
              0.1111111111111111,
              "#46039f"
             ],
             [
              0.2222222222222222,
              "#7201a8"
             ],
             [
              0.3333333333333333,
              "#9c179e"
             ],
             [
              0.4444444444444444,
              "#bd3786"
             ],
             [
              0.5555555555555556,
              "#d8576b"
             ],
             [
              0.6666666666666666,
              "#ed7953"
             ],
             [
              0.7777777777777778,
              "#fb9f3a"
             ],
             [
              0.8888888888888888,
              "#fdca26"
             ],
             [
              1,
              "#f0f921"
             ]
            ],
            "type": "histogram2dcontour"
           }
          ],
          "mesh3d": [
           {
            "colorbar": {
             "outlinewidth": 0,
             "ticks": ""
            },
            "type": "mesh3d"
           }
          ],
          "parcoords": [
           {
            "line": {
             "colorbar": {
              "outlinewidth": 0,
              "ticks": ""
             }
            },
            "type": "parcoords"
           }
          ],
          "pie": [
           {
            "automargin": true,
            "type": "pie"
           }
          ],
          "scatter": [
           {
            "fillpattern": {
             "fillmode": "overlay",
             "size": 10,
             "solidity": 0.2
            },
            "type": "scatter"
           }
          ],
          "scatter3d": [
           {
            "line": {
             "colorbar": {
              "outlinewidth": 0,
              "ticks": ""
             }
            },
            "marker": {
             "colorbar": {
              "outlinewidth": 0,
              "ticks": ""
             }
            },
            "type": "scatter3d"
           }
          ],
          "scattercarpet": [
           {
            "marker": {
             "colorbar": {
              "outlinewidth": 0,
              "ticks": ""
             }
            },
            "type": "scattercarpet"
           }
          ],
          "scattergeo": [
           {
            "marker": {
             "colorbar": {
              "outlinewidth": 0,
              "ticks": ""
             }
            },
            "type": "scattergeo"
           }
          ],
          "scattergl": [
           {
            "marker": {
             "colorbar": {
              "outlinewidth": 0,
              "ticks": ""
             }
            },
            "type": "scattergl"
           }
          ],
          "scattermapbox": [
           {
            "marker": {
             "colorbar": {
              "outlinewidth": 0,
              "ticks": ""
             }
            },
            "type": "scattermapbox"
           }
          ],
          "scatterpolar": [
           {
            "marker": {
             "colorbar": {
              "outlinewidth": 0,
              "ticks": ""
             }
            },
            "type": "scatterpolar"
           }
          ],
          "scatterpolargl": [
           {
            "marker": {
             "colorbar": {
              "outlinewidth": 0,
              "ticks": ""
             }
            },
            "type": "scatterpolargl"
           }
          ],
          "scatterternary": [
           {
            "marker": {
             "colorbar": {
              "outlinewidth": 0,
              "ticks": ""
             }
            },
            "type": "scatterternary"
           }
          ],
          "surface": [
           {
            "colorbar": {
             "outlinewidth": 0,
             "ticks": ""
            },
            "colorscale": [
             [
              0,
              "#0d0887"
             ],
             [
              0.1111111111111111,
              "#46039f"
             ],
             [
              0.2222222222222222,
              "#7201a8"
             ],
             [
              0.3333333333333333,
              "#9c179e"
             ],
             [
              0.4444444444444444,
              "#bd3786"
             ],
             [
              0.5555555555555556,
              "#d8576b"
             ],
             [
              0.6666666666666666,
              "#ed7953"
             ],
             [
              0.7777777777777778,
              "#fb9f3a"
             ],
             [
              0.8888888888888888,
              "#fdca26"
             ],
             [
              1,
              "#f0f921"
             ]
            ],
            "type": "surface"
           }
          ],
          "table": [
           {
            "cells": {
             "fill": {
              "color": "#EBF0F8"
             },
             "line": {
              "color": "white"
             }
            },
            "header": {
             "fill": {
              "color": "#C8D4E3"
             },
             "line": {
              "color": "white"
             }
            },
            "type": "table"
           }
          ]
         },
         "layout": {
          "annotationdefaults": {
           "arrowcolor": "#2a3f5f",
           "arrowhead": 0,
           "arrowwidth": 1
          },
          "autotypenumbers": "strict",
          "coloraxis": {
           "colorbar": {
            "outlinewidth": 0,
            "ticks": ""
           }
          },
          "colorscale": {
           "diverging": [
            [
             0,
             "#8e0152"
            ],
            [
             0.1,
             "#c51b7d"
            ],
            [
             0.2,
             "#de77ae"
            ],
            [
             0.3,
             "#f1b6da"
            ],
            [
             0.4,
             "#fde0ef"
            ],
            [
             0.5,
             "#f7f7f7"
            ],
            [
             0.6,
             "#e6f5d0"
            ],
            [
             0.7,
             "#b8e186"
            ],
            [
             0.8,
             "#7fbc41"
            ],
            [
             0.9,
             "#4d9221"
            ],
            [
             1,
             "#276419"
            ]
           ],
           "sequential": [
            [
             0,
             "#0d0887"
            ],
            [
             0.1111111111111111,
             "#46039f"
            ],
            [
             0.2222222222222222,
             "#7201a8"
            ],
            [
             0.3333333333333333,
             "#9c179e"
            ],
            [
             0.4444444444444444,
             "#bd3786"
            ],
            [
             0.5555555555555556,
             "#d8576b"
            ],
            [
             0.6666666666666666,
             "#ed7953"
            ],
            [
             0.7777777777777778,
             "#fb9f3a"
            ],
            [
             0.8888888888888888,
             "#fdca26"
            ],
            [
             1,
             "#f0f921"
            ]
           ],
           "sequentialminus": [
            [
             0,
             "#0d0887"
            ],
            [
             0.1111111111111111,
             "#46039f"
            ],
            [
             0.2222222222222222,
             "#7201a8"
            ],
            [
             0.3333333333333333,
             "#9c179e"
            ],
            [
             0.4444444444444444,
             "#bd3786"
            ],
            [
             0.5555555555555556,
             "#d8576b"
            ],
            [
             0.6666666666666666,
             "#ed7953"
            ],
            [
             0.7777777777777778,
             "#fb9f3a"
            ],
            [
             0.8888888888888888,
             "#fdca26"
            ],
            [
             1,
             "#f0f921"
            ]
           ]
          },
          "colorway": [
           "#636efa",
           "#EF553B",
           "#00cc96",
           "#ab63fa",
           "#FFA15A",
           "#19d3f3",
           "#FF6692",
           "#B6E880",
           "#FF97FF",
           "#FECB52"
          ],
          "font": {
           "color": "#2a3f5f"
          },
          "geo": {
           "bgcolor": "white",
           "lakecolor": "white",
           "landcolor": "#E5ECF6",
           "showlakes": true,
           "showland": true,
           "subunitcolor": "white"
          },
          "hoverlabel": {
           "align": "left"
          },
          "hovermode": "closest",
          "mapbox": {
           "style": "light"
          },
          "paper_bgcolor": "white",
          "plot_bgcolor": "#E5ECF6",
          "polar": {
           "angularaxis": {
            "gridcolor": "white",
            "linecolor": "white",
            "ticks": ""
           },
           "bgcolor": "#E5ECF6",
           "radialaxis": {
            "gridcolor": "white",
            "linecolor": "white",
            "ticks": ""
           }
          },
          "scene": {
           "xaxis": {
            "backgroundcolor": "#E5ECF6",
            "gridcolor": "white",
            "gridwidth": 2,
            "linecolor": "white",
            "showbackground": true,
            "ticks": "",
            "zerolinecolor": "white"
           },
           "yaxis": {
            "backgroundcolor": "#E5ECF6",
            "gridcolor": "white",
            "gridwidth": 2,
            "linecolor": "white",
            "showbackground": true,
            "ticks": "",
            "zerolinecolor": "white"
           },
           "zaxis": {
            "backgroundcolor": "#E5ECF6",
            "gridcolor": "white",
            "gridwidth": 2,
            "linecolor": "white",
            "showbackground": true,
            "ticks": "",
            "zerolinecolor": "white"
           }
          },
          "shapedefaults": {
           "line": {
            "color": "#2a3f5f"
           }
          },
          "ternary": {
           "aaxis": {
            "gridcolor": "white",
            "linecolor": "white",
            "ticks": ""
           },
           "baxis": {
            "gridcolor": "white",
            "linecolor": "white",
            "ticks": ""
           },
           "bgcolor": "#E5ECF6",
           "caxis": {
            "gridcolor": "white",
            "linecolor": "white",
            "ticks": ""
           }
          },
          "title": {
           "x": 0.05
          },
          "xaxis": {
           "automargin": true,
           "gridcolor": "white",
           "linecolor": "white",
           "ticks": "",
           "title": {
            "standoff": 15
           },
           "zerolinecolor": "white",
           "zerolinewidth": 2
          },
          "yaxis": {
           "automargin": true,
           "gridcolor": "white",
           "linecolor": "white",
           "ticks": "",
           "title": {
            "standoff": 15
           },
           "zerolinecolor": "white",
           "zerolinewidth": 2
          }
         }
        },
        "title": {
         "font": {
          "size": 20
         },
         "text": "World Map Showing Change in Exports"
        },
        "width": 1400
       }
      }
     },
     "metadata": {},
     "output_type": "display_data"
    }
   ],
   "source": [
    "create_world_map(get_data(exports), \"exports\")"
   ]
  }
 ],
 "metadata": {
  "kernelspec": {
   "display_name": "phd",
   "language": "python",
   "name": "python3"
  },
  "language_info": {
   "codemirror_mode": {
    "name": "ipython",
    "version": 3
   },
   "file_extension": ".py",
   "mimetype": "text/x-python",
   "name": "python",
   "nbconvert_exporter": "python",
   "pygments_lexer": "ipython3",
   "version": "3.10.14"
  }
 },
 "nbformat": 4,
 "nbformat_minor": 2
}
