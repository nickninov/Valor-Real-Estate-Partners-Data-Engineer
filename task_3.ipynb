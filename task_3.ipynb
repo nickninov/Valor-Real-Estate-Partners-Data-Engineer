{
 "cells": [
  {
   "cell_type": "code",
   "execution_count": 3,
   "metadata": {},
   "outputs": [],
   "source": [
    "import pandas as pd"
   ]
  },
  {
   "cell_type": "code",
   "execution_count": 43,
   "metadata": {},
   "outputs": [],
   "source": [
    "df = pd.read_excel(\"Investment opportunities.xlsx\")"
   ]
  },
  {
   "cell_type": "markdown",
   "metadata": {},
   "source": [
    "## Can you please analyze set of data, and present top 6 investable countries and why? "
   ]
  },
  {
   "cell_type": "markdown",
   "metadata": {},
   "source": [
    "A composite score is a single number that summarizes a set of related data points. It's calculated by combining multiple scores.\n",
    "By using the GDP Growth, Stability, Infrastructure, Unemployment and Crime scores, a balanced Composite score is created hence investment opportunities emerge.\n",
    "\n",
    "The objective is to capture diverse but critical aspects of economic and social health that contribute to a favorable investment environment."
   ]
  },
  {
   "cell_type": "code",
   "execution_count": 44,
   "metadata": {},
   "outputs": [
    {
     "data": {
      "text/html": [
       "<div>\n",
       "<style scoped>\n",
       "    .dataframe tbody tr th:only-of-type {\n",
       "        vertical-align: middle;\n",
       "    }\n",
       "\n",
       "    .dataframe tbody tr th {\n",
       "        vertical-align: top;\n",
       "    }\n",
       "\n",
       "    .dataframe thead th {\n",
       "        text-align: right;\n",
       "    }\n",
       "</style>\n",
       "<table border=\"1\" class=\"dataframe\">\n",
       "  <thead>\n",
       "    <tr style=\"text-align: right;\">\n",
       "      <th></th>\n",
       "      <th>Country</th>\n",
       "      <th>Composite Score</th>\n",
       "    </tr>\n",
       "  </thead>\n",
       "  <tbody>\n",
       "    <tr>\n",
       "      <th>0</th>\n",
       "      <td>Netherlands</td>\n",
       "      <td>112.69</td>\n",
       "    </tr>\n",
       "    <tr>\n",
       "      <th>1</th>\n",
       "      <td>France</td>\n",
       "      <td>107.34</td>\n",
       "    </tr>\n",
       "    <tr>\n",
       "      <th>2</th>\n",
       "      <td>Spain</td>\n",
       "      <td>104.61</td>\n",
       "    </tr>\n",
       "    <tr>\n",
       "      <th>3</th>\n",
       "      <td>Belgium</td>\n",
       "      <td>102.12</td>\n",
       "    </tr>\n",
       "    <tr>\n",
       "      <th>4</th>\n",
       "      <td>Luxembourg</td>\n",
       "      <td>100.19</td>\n",
       "    </tr>\n",
       "    <tr>\n",
       "      <th>5</th>\n",
       "      <td>Sweden</td>\n",
       "      <td>99.37</td>\n",
       "    </tr>\n",
       "  </tbody>\n",
       "</table>\n",
       "</div>"
      ],
      "text/plain": [
       "       Country  Composite Score\n",
       "0  Netherlands           112.69\n",
       "1       France           107.34\n",
       "2        Spain           104.61\n",
       "3      Belgium           102.12\n",
       "4   Luxembourg           100.19\n",
       "5       Sweden            99.37"
      ]
     },
     "execution_count": 44,
     "metadata": {},
     "output_type": "execute_result"
    }
   ],
   "source": [
    "df = df.rename(columns={\"political stability\": \"Stability Score\"})\n",
    "\n",
    "df['GDP Growth'] = (df[\"2022 GDP Size\"] / df[\"2019 GDP Size\"]) - 1\n",
    "df['Infrastructure Score'] = df['Quality of infrastructure']\n",
    "df['Unemployment Score'] = 1 / df['Unemployment rate']\n",
    "df['Crime Score'] = 1 / df['Crime index'] \n",
    "\n",
    "df['Composite Score'] = (df['GDP Growth'] + df['Stability Score'] + df['Infrastructure Score'] + df['Unemployment Score'] + df['Crime Score']).round(2)\n",
    "\n",
    "df.sort_values(by='Composite Score', ascending=False).head(6).reset_index(drop=True)[[\"Country\", \"Composite Score\"]]"
   ]
  }
 ],
 "metadata": {
  "kernelspec": {
   "display_name": "phd",
   "language": "python",
   "name": "python3"
  },
  "language_info": {
   "codemirror_mode": {
    "name": "ipython",
    "version": 3
   },
   "file_extension": ".py",
   "mimetype": "text/x-python",
   "name": "python",
   "nbconvert_exporter": "python",
   "pygments_lexer": "ipython3",
   "version": "3.10.14"
  }
 },
 "nbformat": 4,
 "nbformat_minor": 2
}
